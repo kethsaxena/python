{
 "cells": [
  {
   "cell_type": "code",
   "execution_count": 2,
   "metadata": {},
   "outputs": [],
   "source": [
    "import json\n",
    "import pandas as pd"
   ]
  },
  {
   "cell_type": "code",
   "execution_count": 3,
   "metadata": {},
   "outputs": [],
   "source": [
    "file=\"comp.json\"\n",
    "data=pd.read_json(\"~/data/\"+file)\n"
   ]
  },
  {
   "cell_type": "code",
   "execution_count": 4,
   "metadata": {},
   "outputs": [
    {
     "name": "stdout",
     "output_type": "stream",
     "text": [
      "            Product  Price\n",
      "0  Desktop Computer    700\n",
      "1            Tablet    250\n",
      "2            iPhone    800\n",
      "3            Laptop   1200\n"
     ]
    }
   ],
   "source": [
    "print(data)"
   ]
  },
  {
   "cell_type": "code",
   "execution_count": 11,
   "metadata": {},
   "outputs": [
    {
     "name": "stdout",
     "output_type": "stream",
     "text": [
      "            Product  Price\n",
      "0  Desktop Computer    700\n",
      "1            Tablet    250\n",
      "2            iPhone    800\n",
      "3            Laptop   1200\n"
     ]
    }
   ],
   "source": [
    "data2=pd.read_json(\"~/data/\"+file,orient=\"values\")\n",
    "print(data2)"
   ]
  },
  {
   "cell_type": "code",
   "execution_count": 10,
   "metadata": {},
   "outputs": [
    {
     "name": "stdout",
     "output_type": "stream",
     "text": [
      "                        0       1       2       3\n",
      "Product  Desktop Computer  Tablet  iPhone  Laptop\n",
      "Price                 700     250     800    1200\n"
     ]
    }
   ],
   "source": [
    "data2=pd.read_json(\"~/data/\"+file,orient=\"index\")\n",
    "print(data2)"
   ]
  }
 ],
 "metadata": {
  "kernelspec": {
   "display_name": "Python 3",
   "language": "python",
   "name": "python3"
  },
  "language_info": {
   "codemirror_mode": {
    "name": "ipython",
    "version": 3
   },
   "file_extension": ".py",
   "mimetype": "text/x-python",
   "name": "python",
   "nbconvert_exporter": "python",
   "pygments_lexer": "ipython3",
   "version": "3.8.3"
  }
 },
 "nbformat": 4,
 "nbformat_minor": 4
}
